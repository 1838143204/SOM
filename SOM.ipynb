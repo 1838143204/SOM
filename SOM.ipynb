{
 "cells": [
  {
   "cell_type": "code",
   "execution_count": 1,
   "metadata": {},
   "outputs": [],
   "source": [
    "import numpy as np\n",
    "from matplotlib import pyplot as plt\n",
    "import random"
   ]
  },
  {
   "cell_type": "code",
   "execution_count": 45,
   "metadata": {},
   "outputs": [],
   "source": [
    "class SOM:\n",
    "    def __init__(self, out_layer, data_set, label_set, iteration, task='both', verbose=False):\n",
    "        \"\"\"\n",
    "        :param out_layer: 输出层神经元的形状\n",
    "        :param data_set: 数据集\n",
    "        :param label_set:标签集\n",
    "        :param iteration: 迭代次数\n",
    "        :param task: 任务，classify(分类)和cluster(聚类)\n",
    "        :param verbose: 若为True，则显示过程，默认为False\n",
    "        weight: 随机权值矩阵\n",
    "        neuron_num: 输出神经元数量，具体值为out_layer的shape行列乘积\n",
    "        out_neuron: 输出层神经元，用来记录每个输出层神经元包含的输入神经元\n",
    "        in_neuron: 输入神经元，用来记录每个输入神经元映射到的输出神经元\n",
    "        \"\"\"\n",
    "        self.out_layer = out_layer\n",
    "        self.data_set = data_set\n",
    "        self.label_set = label_set\n",
    "        self.iteration = iteration\n",
    "        self.task = task\n",
    "        self.verbose = verbose\n",
    "        self.neuron_num = out_layer[0] * out_layer[1]\n",
    "        self.out_neuron = [[] for _ in range(self.neuron_num)]\n",
    "        self.weight = np.zeros((self.neuron_num, len(data_set[0])))\n",
    "        self.trained = False\n",
    "\n",
    "    def Geteta(self, n, distance):\n",
    "        \"\"\"\n",
    "        :param n: 迭代次数\n",
    "        :param distance: 距离\n",
    "        :return: 返回学习率\n",
    "        \"\"\"\n",
    "        return np.power(np.e, -distance) / (n+3)\n",
    "\n",
    "    def Getneighbour(self, neuron, n):\n",
    "        \"\"\"\n",
    "        :param neuron: 获胜神经元\n",
    "        :param n: 迭代次数\n",
    "        :return: 需要更新权值的输出神经元及其与BMU的欧式距离\n",
    "        \"\"\"\n",
    "        update_lis=[]\n",
    "        coord = (neuron // self.out_layer[0], neuron % self.out_layer[0])\n",
    "        for i in range(self.neuron_num):\n",
    "            coord_temp = (i // self.out_layer[0], i % self.out_layer[0])\n",
    "            distance=(coord[0]-coord_temp[0])**2+(coord[1]-coord_temp[1])**2\n",
    "            if distance<n:\n",
    "                update_lis.append([i,distance])\n",
    "        return update_lis\n",
    "\n",
    "    def iterate(self, n):\n",
    "        \"\"\"\n",
    "        :param n: 迭代次数\n",
    "        \"\"\"\n",
    "        def Getdistance(neu1, neu2):\n",
    "            \"\"\"\n",
    "            :param neu1: 第一个神经元\n",
    "            :param neu2: 第二个神经元\n",
    "            :return: 两个神经元之间的距离\n",
    "            \"\"\"\n",
    "            dx = abs(neu1 - neu2) // self.out_layer[0]\n",
    "            dy = abs(neu1 - neu2) // self.out_layer[1]\n",
    "            d = np.array([dx, dy])\n",
    "            distance = np.linalg.norm(d)\n",
    "            return distance\n",
    "        for i in range(len(self.data_set)):\n",
    "            data = self.data_set[i]\n",
    "            for j in range(len(self.weight)):\n",
    "                d = data - self.weight[j]\n",
    "                distance = np.linalg.norm(d)\n",
    "                if j == 0 or minDistance > distance:\n",
    "                    minDistance = distance\n",
    "                    win = j\n",
    "            for k,distance in self.Getneighbour(win, n):\n",
    "                eta = self.Geteta(n, distance)\n",
    "                self.weight[k] = self.weight[k] * (1 - eta) + eta * data\n",
    "                #self.out_neuron[k].append(i)\n",
    "            self.out_neuron[win].append(i)\n",
    "    \n",
    "    def Getclass(self,neuron):\n",
    "        \"\"\"\n",
    "        :param neuron:输出神经元\n",
    "        \"\"\"\n",
    "        cla=[0,0]\n",
    "        for i in self.out_neuron[neuron]:\n",
    "            if self.label_set[i] == 1:\n",
    "                cla[0]=cla[0]+1\n",
    "            else:\n",
    "                cla[1]=cla[1]+1\n",
    "        if cla==[0,0]:\n",
    "            return 0\n",
    "        return 'red' if cla[1] > cla[0] else 'blue'\n",
    "\n",
    "    def train(self):\n",
    "        self.trained = True\n",
    "        self.weight = np.random.rand(self.neuron_num, len(self.data_set[0]))\n",
    "        for i in range(self.iteration):\n",
    "            self.out_neuron = [[] for _ in range(self.neuron_num)]\n",
    "            self.iterate(i + 1)\n",
    "            if self.verbose == True:\n",
    "                plt.scatter(self.weight[:, 0], self.weight[:, 1], c='b')\n",
    "                plt.show()\n",
    "        print(self.out_neuron)\n",
    "        if self.task == 'classify':\n",
    "            plt.title('classify')\n",
    "            for neu_index in range(self.neuron_num):\n",
    "                color = self.Getclass(neu_index)\n",
    "                if color != 0:\n",
    "                    plt.scatter(self.weight[neu_index, 0], self.weight[neu_index, 1], c=color)\n",
    "            plt.scatter(self.data_set[8:, 0], self.data_set[8:, 1], marker='*')\n",
    "            plt.scatter(self.data_set[:8, 0], self.data_set[:8, 1], marker='.')\n",
    "            plt.show()\n",
    "        if self.task == 'cluster':\n",
    "            plt.title('cluster')\n",
    "            plt.scatter(self.data_set[:, 0], self.data_set[:, 1], marker='*')\n",
    "            for neu_index in range(self.neuron_num):\n",
    "                if self.out_neuron[neu_index] != []:\n",
    "                    plt.scatter(self.weight[neu_index,0],self.weight[neu_index,1])\n",
    "                    for d_index in self.out_neuron[neu_index]:\n",
    "                        x=[self.weight[neu_index,0],self.data_set[d_index,0]]\n",
    "                        y=[self.weight[neu_index,1],self.data_set[d_index,1]]\n",
    "                        plt.plot(x,y,c='b',lw=0.1)\n",
    "            plt.show()\n",
    "        if self.task == 'both':\n",
    "            plt.title('classify')\n",
    "            for neu_index in range(self.neuron_num):\n",
    "                    color = self.Getclass(neu_index)\n",
    "                    if color != 0:\n",
    "                        plt.scatter(self.weight[neu_index, 0], self.weight[neu_index, 1], c=color)\n",
    "            plt.scatter(self.data_set[8:, 0], self.data_set[8:, 1], marker='*')\n",
    "            plt.scatter(self.data_set[:8, 0], self.data_set[:8, 1], marker='.')\n",
    "            plt.show()\n",
    "            plt.title('cluster')\n",
    "            plt.scatter(self.data_set[:, 0], self.data_set[:, 1], marker='*')    \n",
    "            for neu_index in range(self.neuron_num):\n",
    "                if self.out_neuron[neu_index] != []:\n",
    "                    plt.scatter(self.weight[neu_index,0],self.weight[neu_index,1])\n",
    "                    for d_index in self.out_neuron[neu_index]:\n",
    "                        x=[self.weight[neu_index,0],self.data_set[d_index,0]]\n",
    "                        y=[self.weight[neu_index,1],self.data_set[d_index,1]]\n",
    "                        plt.plot(x,y,c='b',lw=0.1)\n",
    "            plt.show()\n",
    "            \n",
    "    def predict(self, n=3):\n",
    "        if self.trained == True:\n",
    "            index=[]\n",
    "            for i in range(n):\n",
    "                index.append(random.randint(0,len(self.data_set)))\n",
    "            for i in index:\n",
    "                data = self.data_set[i]\n",
    "                Mindistance = 100\n",
    "                for neu_index in range(self.neuron_num):\n",
    "                    if self.out_neuron[neu_index] != []:\n",
    "                        dx = self.weight[neu_index]-data[0]\n",
    "                        dy = self.weight[neu_index]-data[1]\n",
    "                        d = np.array([dx, dy])\n",
    "                        distance = np.linalg.norm(d)\n",
    "                        if distance < Mindistance:\n",
    "                            Mindistance = distance\n",
    "                            out_neuron = neu_index\n",
    "                cla = self.Getclass(out_neuron)\n",
    "                print(data, 'is in neuron', out_neuron, ', it\\'s class is', cla)\n",
    "        else:\n",
    "            print('haven\\'t trained yet\\nuse object.train\\(\\)')"
   ]
  },
  {
   "cell_type": "code",
   "execution_count": 43,
   "metadata": {},
   "outputs": [],
   "source": [
    "with open(\"data.txt\", \"r\") as f:\n",
    "    datas = f.read().split(\",\")\n",
    "    label_set = [int(datas[i]) for i in range(0,len(datas),3)]\n",
    "    data_set = [[float(datas[i + 1]), float(datas[i + 2]), ] for i in range(0, len(datas), 3)]\n",
    "    data_set = np.array(data_set)\n",
    "    f.close()"
   ]
  },
  {
   "cell_type": "code",
   "execution_count": 48,
   "metadata": {},
   "outputs": [
    {
     "name": "stdout",
     "output_type": "stream",
     "text": [
      "[[], [14], [6, 7], [8, 12, 13, 15], [], [10, 11], [5], [2, 3], [], [], [], [], [4], [1], [0], [9]]\n"
     ]
    },
    {
     "data": {
      "image/png": "[encoded data removed]",
      "text/plain": [
       "<Figure size 432x288 with 1 Axes>"
      ]
     },
     "metadata": {
      "needs_background": "light"
     },
     "output_type": "display_data"
    },
    {
     "data": {
      "image/png": "[encoded data removed]",
      "text/plain": [
       "<Figure size 432x288 with 1 Axes>"
      ]
     },
     "metadata": {
      "needs_background": "light"
     },
     "output_type": "display_data"
    },
    {
     "name": "stdout",
     "output_type": "stream",
     "text": [
      "[0.774 0.376] is in neuron 14 , it's class is blue\n",
      "[0.403 0.237] is in neuron 15 , it's class is red\n",
      "[0.245 0.057] is in neuron 5 , it's class is red\n",
      "CPU times: user 1 µs, sys: 0 ns, total: 1 µs\n",
      "Wall time: 4.29 µs\n"
     ]
    }
   ],
   "source": [
    "som = SOM((4, 4), data_set, label_set, 5,task='both', verbose=False)\n",
    "som.train()\n",
    "som.predict()\n",
    "%time"
   ]
  },
  {
   "cell_type": "code",
   "execution_count": null,
   "metadata": {},
   "outputs": [],
   "source": []
  }
 ],
 "metadata": {
  "kernelspec": {
   "display_name": "Python 3",
   "language": "python",
   "name": "python3"
  },
  "language_info": {
   "codemirror_mode": {
    "name": "ipython",
    "version": 3
   },
   "file_extension": ".py",
   "mimetype": "text/x-python",
   "name": "python",
   "nbconvert_exporter": "python",
   "pygments_lexer": "ipython3",
   "version": "3.7.7"
  }
 },
 "nbformat": 4,
 "nbformat_minor": 4
}
